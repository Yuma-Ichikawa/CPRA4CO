{
 "cells": [
  {
   "cell_type": "markdown",
   "id": "8ae5768d",
   "metadata": {},
   "source": [
    "## Library"
   ]
  },
  {
   "cell_type": "code",
   "execution_count": 1,
   "id": "9d0ab9ad",
   "metadata": {
    "ExecuteTime": {
     "end_time": "2024-02-01T17:21:01.982083Z",
     "start_time": "2024-02-01T17:20:52.388057Z"
    }
   },
   "outputs": [
    {
     "name": "stdout",
     "output_type": "stream",
     "text": [
      "\u001b[33mWARNING: Running pip as the 'root' user can result in broken permissions and conflicting behaviour with the system package manager. It is recommended to use a virtual environment instead: https://pip.pypa.io/warnings/venv\u001b[0m\n",
      "Requirement already satisfied: urllib3<1.27,>=1.21.1 in /opt/conda/lib/python3.8/site-packages (from requests>=2.19.0->dgl==1.0.1+cu117) (1.26.6)\n",
      "\u001b[33mWARNING: Running pip as the 'root' user can result in broken permissions and conflicting behaviour with the system package manager. It is recommended to use a virtual environment instead: https://pip.pypa.io/warnings/venv\u001b[0m\n",
      "Requirement already satisfied: networkx==3.1 in /opt/conda/lib/python3.8/site-packages (3.1)\n"
     ]
    }
   ],
   "source": [
    "! pip install dgl==1.0.1+cu117 -f https://data.dgl.ai/wheels/cu117/repo.html | tail -n 1\n",
    "! pip install networkx==3.1 | tail -n 1"
   ]
  },
  {
   "cell_type": "code",
   "execution_count": 3,
   "id": "103cd4dd",
   "metadata": {
    "ExecuteTime": {
     "end_time": "2024-02-01T17:21:21.540922Z",
     "start_time": "2024-02-01T17:21:21.489600Z"
    }
   },
   "outputs": [],
   "source": [
    "import random\n",
    "import os\n",
    "import copy\n",
    "from collections import OrderedDict, defaultdict\n",
    "from itertools import chain, islice, combinations\n",
    "from time import time\n",
    "from tqdm import tqdm\n",
    "\n",
    "import dgl\n",
    "from dgl.nn.pytorch import GraphConv\n",
    "from dgl.nn.pytorch import SAGEConv\n",
    "\n",
    "import torch\n",
    "import torch.nn as nn\n",
    "import torch.nn.functional as F\n",
    "import numpy as np\n",
    "import matplotlib.pyplot as plt\n",
    "from mpl_toolkits.mplot3d import Axes3D\n",
    "import pandas as pd\n",
    "import seaborn as sns\n",
    "import sklearn \n",
    "from sklearn.preprocessing import StandardScaler\n",
    "from sklearn.decomposition import PCA\n",
    "from networkx.algorithms.approximation.clique import maximum_independent_set as mis\n",
    "import networkx as nx\n",
    "\n",
    "from main import utils\n",
    "from main import gnn\n",
    "from main import instance\n",
    "\n",
    "device = torch.device('cuda:0' if torch.cuda.is_available() else 'cpu')"
   ]
  },
  {
   "cell_type": "code",
   "execution_count": 4,
   "id": "447f97ba",
   "metadata": {
    "ExecuteTime": {
     "end_time": "2024-02-01T17:21:22.568083Z",
     "start_time": "2024-02-01T17:21:22.550571Z"
    }
   },
   "outputs": [],
   "source": [
    "# fix seed\n",
    "SEED=0\n",
    "utils.fix_seed(SEED)\n",
    "torch_type=torch.float32"
   ]
  },
  {
   "cell_type": "markdown",
   "id": "d446f0b4",
   "metadata": {},
   "source": [
    "## Finding Penalty-diversified Solutions"
   ]
  },
  {
   "cell_type": "markdown",
   "id": "b5dd5d0f",
   "metadata": {},
   "source": [
    "### Step 1: Set hyperparameters"
   ]
  },
  {
   "cell_type": "code",
   "execution_count": 13,
   "id": "29c9ed6f",
   "metadata": {
    "ExecuteTime": {
     "end_time": "2024-02-01T17:27:08.291332Z",
     "start_time": "2024-02-01T17:27:04.260828Z"
    }
   },
   "outputs": [],
   "source": [
    "# Set Penalties\n",
    "penalties=[0.04*i for i in range(1, 50)]\n",
    "\n",
    "# Graph parameters\n",
    "N, d, p, graph_type = 1000, 20, None, \"reg\"\n",
    "nx_graph = nx.random_regular_graph(d=d, n=N, seed=SEED)\n",
    "dgl_graph = dgl.from_networkx(nx_graph).to(device)\n",
    "Q_mats = [utils.qubo_dict_to_torch(nx_graph, \n",
    "                                   instance.gen_q_dict_mis_sym(nx_graph,penalty=penalty)\n",
    "                                  ).to(device) for penalty in penalties]\n",
    "\n",
    "# GNN Architecture\n",
    "in_feats = int(dgl_graph.number_of_nodes()**(0.8))\n",
    "hidden_size=int(in_feats)\n",
    "num_class=len(penalties)\n",
    "dropout=0.0\n",
    "model=gnn.GNNSage_dev(in_feats, \n",
    "                      hidden_size, \n",
    "                      num_class, \n",
    "                      dropout, \n",
    "                      device, \n",
    "                      agg_type='mean'\n",
    "                     ).to(device)\n",
    "embedding= nn.Embedding(dgl_graph.number_of_nodes(), \n",
    "                        in_feats\n",
    "                       ).type(torch_type).to(device)\n",
    "\n",
    "# Learning Parameters\n",
    "num_epoch=int(1e+5)\n",
    "lr=1e-4 \n",
    "weight_decay=1e-2\n",
    "tol=1e-5 \n",
    "patience=1000\n",
    "vari_param=0\n",
    "init_reg_param=-10 \n",
    "annealing_rate=1e-3\n",
    "check_interval=5000"
   ]
  },
  {
   "cell_type": "markdown",
   "id": "b21437fe",
   "metadata": {},
   "source": [
    "### Set 2: Define loss function"
   ]
  },
  {
   "cell_type": "code",
   "execution_count": 6,
   "id": "36aa5e35",
   "metadata": {
    "ExecuteTime": {
     "end_time": "2024-02-01T17:21:32.844757Z",
     "start_time": "2024-02-01T17:21:32.840315Z"
    }
   },
   "outputs": [],
   "source": [
    "def loss(probs, reg_param, vari_param=0):\n",
    "    \n",
    "    # cost function\n",
    "    sum_cost=0\n",
    "    for idx in range(probs.size(1)):\n",
    "        sum_cost+=probs[:, idx].T @ Q_mats[idx] @ probs[:, idx]\n",
    "    \n",
    "    # diversity measure\n",
    "    vari_term = -1*probs.size(1)*probs.std(dim=1).sum()\n",
    "    \n",
    "    # Annealed Term\n",
    "    reg_term = torch.sum((1-(2*probs-1)**2))\n",
    "    \n",
    "    return sum_cost+reg_param*reg_term+vari_param*vari_term, sum_cost/probs.size(1), reg_term, vari_term"
   ]
  },
  {
   "cell_type": "markdown",
   "id": "8b301921",
   "metadata": {},
   "source": [
    "### Set 3: Run CTRA-PI-GNN solver"
   ]
  },
  {
   "cell_type": "code",
   "execution_count": 7,
   "id": "cabb0327",
   "metadata": {
    "ExecuteTime": {
     "end_time": "2024-02-01T17:25:10.597897Z",
     "start_time": "2024-02-01T17:21:32.846606Z"
    }
   },
   "outputs": [
    {
     "name": "stdout",
     "output_type": "stream",
     "text": [
      "【TRAIN EPOCH 0】LOSS 27151.906, COST 6148.474, REG 27412.330, VAR -16182.199, PARAM -10.000\n",
      "【TRAIN EPOCH 5000】LOSS -138172.766, COST 1061.220, REG 38034.508, VAR -4545.029, PARAM -5.000\n",
      "【TRAIN EPOCH 10000】LOSS -9024.488, COST -184.173, REG 274.687, VAR -14063.186, PARAM -0.000\n",
      "【TRAIN EPOCH 15000】LOSS -9122.794, COST -186.186, REG 0.066, VAR -14185.266, PARAM 5.000\n",
      "Early Stopping 18621\n"
     ]
    }
   ],
   "source": [
    "model, bit_strings, cost, reg_term, vari_term, runtime = gnn.fit_model_multishot(model,\n",
    "                                                                                 dgl_graph, \n",
    "                                                                                 embedding,\n",
    "                                                                                 loss,\n",
    "                                                                                 num_epoch=num_epoch,\n",
    "                                                                                 lr=lr, \n",
    "                                                                                 weight_decay=weight_decay,\n",
    "                                                                                 tol=tol, \n",
    "                                                                                 patience=patience, \n",
    "                                                                                 vari_param=0,\n",
    "                                                                                 device=device,\n",
    "                                                                                 annealing=True,\n",
    "                                                                                 init_reg_param=init_reg_param,\n",
    "                                                                                 annealing_rate=annealing_rate,\n",
    "                                                                                 check_interval=check_interval\n",
    "                                                                                )"
   ]
  },
  {
   "cell_type": "markdown",
   "id": "e3f2b570",
   "metadata": {},
   "source": [
    "### Visualize result"
   ]
  },
  {
   "cell_type": "code",
   "execution_count": 8,
   "id": "7d69faea",
   "metadata": {
    "ExecuteTime": {
     "end_time": "2024-02-01T17:25:12.225218Z",
     "start_time": "2024-02-01T17:25:10.600150Z"
    }
   },
   "outputs": [],
   "source": [
    "mis_results=[]\n",
    "for shot in range(bit_strings.size(1)):\n",
    "    size_mis, _, number_violation = utils.postprocess_gnn_mis(bit_strings[:, shot], nx_graph)\n",
    "    mis_results.append([size_mis.item(), number_violation])"
   ]
  },
  {
   "cell_type": "code",
   "execution_count": 9,
   "id": "9402868f",
   "metadata": {
    "ExecuteTime": {
     "end_time": "2024-02-01T17:25:12.524086Z",
     "start_time": "2024-02-01T17:25:12.226530Z"
    }
   },
   "outputs": [
    {
     "data": {
      "image/png": "[encoded data removed]",
      "text/plain": [
       "<Figure size 460.8x345.6 with 2 Axes>"
      ]
     },
     "metadata": {
      "needs_background": "light"
     },
     "output_type": "display_data"
    }
   ],
   "source": [
    "mis_results=np.array(mis_results)\n",
    "\n",
    "fig, ax_left = plt.subplots(figsize=(6.4, 4.8))\n",
    "ax_left.plot(np.array(penalties), mis_results[:, 0]/N, label=\"Independent Set\", color=\"tab:blue\")\n",
    "ax_right = ax_left.twinx()\n",
    "ax_right.plot(np.array(penalties), mis_results[:, 1]/N, label=\"Violation\", color=\"tab:orange\")\n",
    "ax_left.grid()\n",
    "ax_left.set_ylabel(\"Independent Set\")\n",
    "ax_right.set_ylabel(\"Violation\")\n",
    "ax_left.set_xlabel(r\"$\\lambda$\")\n",
    "\n",
    "h1, l1 = ax_right.get_legend_handles_labels()\n",
    "h2, l2 = ax_left.get_legend_handles_labels()\n",
    "ax_left.legend(h1+h2, l1+l2)\n",
    "plt.show()"
   ]
  },
  {
   "cell_type": "markdown",
   "id": "34cbaf21",
   "metadata": {},
   "source": [
    "## Finding Heterogeneous Solutions"
   ]
  },
  {
   "cell_type": "markdown",
   "id": "539c0f52",
   "metadata": {},
   "source": [
    "### Step1: Setting Hyperparameters"
   ]
  },
  {
   "cell_type": "code",
   "execution_count": 10,
   "id": "b6cccad1",
   "metadata": {
    "ExecuteTime": {
     "end_time": "2024-02-01T17:25:12.632962Z",
     "start_time": "2024-02-01T17:25:12.525597Z"
    }
   },
   "outputs": [],
   "source": [
    "# load problem\n",
    "Q_data=np.load(\"data/maxcut/MCPg14.npz\")\n",
    "Adj= -1/2*Q_data['weight']\n",
    "nx_graph = nx.convert_matrix.from_numpy_array(Adj)\n",
    "Q_weight = torch.from_numpy(Q_data['weight'].astype(np.float32)).clone().to(device)\n",
    "Q_bias = torch.from_numpy(Q_data['bias'].astype(np.float32)).clone().to(device)\n",
    "\n",
    "# GNN Architecture\n",
    "dgl_graph = dgl.from_networkx(nx_graph).to(device)\n",
    "in_feats = int(dgl_graph.number_of_nodes()**(0.7))\n",
    "hidden_size=int(in_feats)\n",
    "dropout=0.0\n",
    "num_class=100\n",
    "\n",
    "model=gnn.GNNSage_dev(in_feats, \n",
    "                      hidden_size, \n",
    "                      num_class, \n",
    "                      dropout, \n",
    "                      device, \n",
    "                      agg_type='mean'\n",
    "                     ).to(device)\n",
    "\n",
    "embedding= nn.Embedding(dgl_graph.number_of_nodes(), \n",
    "                        in_feats\n",
    "                       ).type(torch_type).to(device)\n",
    "\n",
    "# Learning Parameters\n",
    "num_epoch=int(1e+5)\n",
    "lr=1e-4 \n",
    "weight_decay=1e-2\n",
    "tol=1e-5 \n",
    "patience=1000\n",
    "vari_param=0.4\n",
    "init_reg_param=-3\n",
    "annealing_rate=1e-3\n",
    "check_interval=5000"
   ]
  },
  {
   "cell_type": "markdown",
   "id": "c0069030",
   "metadata": {},
   "source": [
    "### Step2: Set Loss Function"
   ]
  },
  {
   "cell_type": "code",
   "execution_count": 11,
   "id": "39e171d0",
   "metadata": {
    "ExecuteTime": {
     "end_time": "2024-02-01T17:25:12.637817Z",
     "start_time": "2024-02-01T17:25:12.634678Z"
    }
   },
   "outputs": [],
   "source": [
    "def loss(probs, reg_param, vari_param=0):\n",
    "    \n",
    "    # cost function\n",
    "    sum_cost= -0.5*torch.diag(probs.T @ Q_weight @ probs).sum()-(Q_bias @ probs).sum()\n",
    "    \n",
    "    # diversity measure\n",
    "    vari_term = -1*probs.size(1)*probs.std(dim=1).sum()\n",
    "    \n",
    "    # Annealed term\n",
    "    reg_term = torch.sum((1-(2*probs-1)**2))\n",
    "    \n",
    "    return sum_cost+reg_param*reg_term+vari_param*vari_term, sum_cost/probs.size(1), reg_term, vari_term"
   ]
  },
  {
   "cell_type": "markdown",
   "id": "63143891",
   "metadata": {},
   "source": [
    "### Step3: Run CTRA-PI-GNN solver"
   ]
  },
  {
   "cell_type": "code",
   "execution_count": null,
   "id": "3cb0c142",
   "metadata": {
    "ExecuteTime": {
     "end_time": "2024-02-01T17:21:04.106967Z",
     "start_time": "2024-02-01T17:20:58.889Z"
    }
   },
   "outputs": [],
   "source": [
    "model, bit_strings, cost, reg_term, vari_term, runtime = gnn.fit_model_multishot(model,\n",
    "                                                                                 dgl_graph, \n",
    "                                                                                 embedding,\n",
    "                                                                                 loss,\n",
    "                                                                                 num_epoch=num_epoch,\n",
    "                                                                                 lr=lr, \n",
    "                                                                                 weight_decay=weight_decay,\n",
    "                                                                                 tol=tol, \n",
    "                                                                                 patience=patience, \n",
    "                                                                                 vari_param=vari_param,\n",
    "                                                                                 device=device,\n",
    "                                                                                 annealing=True,\n",
    "                                                                                 init_reg_param=init_reg_param,\n",
    "                                                                                 annealing_rate=annealing_rate,\n",
    "                                                                                 check_interval=check_interval)"
   ]
  },
  {
   "cell_type": "markdown",
   "id": "6b31e755",
   "metadata": {},
   "source": [
    "### Visualize results"
   ]
  },
  {
   "cell_type": "code",
   "execution_count": null,
   "id": "d6f0c690",
   "metadata": {
    "ExecuteTime": {
     "end_time": "2024-02-01T17:21:04.107924Z",
     "start_time": "2024-02-01T17:20:59.550Z"
    }
   },
   "outputs": [],
   "source": [
    "maxcut_results=[]\n",
    "for shot in range(bit_strings.size(1)):\n",
    "    hamming_dis = torch.sum(bit_strings[:, 0]!=bit_strings[:, shot]).item()\n",
    "    size_max_cut, [S0, S1], cut_edges, uncut_edges = utils.postprocess_gnn_max_cut(bit_strings[:, shot], nx_graph)\n",
    "    maxcut_results.append([hamming_dis, size_max_cut])\n",
    "maxcut_results=np.array(maxcut_results)\n",
    "    \n",
    "# PCA\n",
    "data=bit_strings.detach().cpu().numpy().T\n",
    "ss = StandardScaler()\n",
    "standardized_data = ss.fit_transform(data)\n",
    "pca = PCA()\n",
    "pca.fit(standardized_data)\n",
    "feature = pca.transform(standardized_data)\n",
    "\n",
    "# CCR \n",
    "cr = pca.explained_variance_ratio_\n",
    "ccr = np.add.accumulate(cr)\n",
    "eigenvalue = pca.explained_variance_\n",
    "eigenvector = pca.components_\n",
    "\n",
    "# Vis\n",
    "fig, axes = plt.subplots(1, 3, figsize=(6.4*3, 4.8), constrained_layout=True)\n",
    "axes[0].hist(maxcut_results[:, 0], bins=20, color=\"tab:blue\", alpha=0.5)\n",
    "axes[0].grid()\n",
    "axes[0].set_xlabel(\"Hamming Distance\", fontsize=15)\n",
    "\n",
    "axes[1].plot(ccr[:10])\n",
    "axes[1].set_ylabel('CCR', fontsize=15)\n",
    "axes[1].set_xlabel('Axis', fontsize=15)\n",
    "axes[1].grid()\n",
    "\n",
    "axes[2].scatter(feature[:, 0], feature[:, 1], s=50, color=\"tab:blue\")\n",
    "axes[2].set_xlabel(\"PC1\")\n",
    "axes[2].set_ylabel(\"PC2\")\n",
    "axes[2].grid()\n",
    "plt.show()"
   ]
  },
  {
   "cell_type": "markdown",
   "id": "b53b6f06",
   "metadata": {},
   "source": [
    "## (Optional) Multi-Problem"
   ]
  },
  {
   "cell_type": "code",
   "execution_count": null,
   "id": "c5e5fab6",
   "metadata": {
    "ExecuteTime": {
     "end_time": "2024-02-01T17:21:04.108620Z",
     "start_time": "2024-02-01T17:21:00.102Z"
    }
   },
   "outputs": [],
   "source": [
    "!ls data/matching"
   ]
  },
  {
   "cell_type": "code",
   "execution_count": null,
   "id": "2b1b283f",
   "metadata": {
    "ExecuteTime": {
     "end_time": "2024-02-01T17:21:04.109581Z",
     "start_time": "2024-02-01T17:21:00.328Z"
    }
   },
   "outputs": [],
   "source": [
    "# load problems\n",
    "N1, N2 = 50, 50\n",
    "c_data=np.load(\"data/matching/data_c.npy\").reshape(-1, N1, N2)\n",
    "m_data=np.load(\"data/matching/data_m.npy\").reshape(-1, N1, N2)\n",
    "c_data = torch.from_numpy(c_data.astype(np.float32)).clone().to(device)\n",
    "m_data = torch.from_numpy(m_data.astype(np.float32)).clone().to(device)\n",
    "# set matching type\n",
    "p, q = 0.05, 0.05\n",
    "nx_graph = nx.complete_graph(N1*N2)\n",
    "dgl_graph = dgl.from_networkx(nx_graph).to(device)\n",
    "\n",
    "# GNN Architecture\n",
    "in_feats = 2500\n",
    "hidden_size=int(in_feats*0.65)\n",
    "dropout=0.0\n",
    "num_class=len(c_data)\n",
    "\n",
    "model=gnn.GNNSage_dev(in_feats, \n",
    "                      hidden_size, \n",
    "                      num_class, \n",
    "                      dropout, \n",
    "                      device, \n",
    "                      agg_type='mean'\n",
    "                     ).to(device)\n",
    "\n",
    "embedding= nn.Embedding(dgl_graph.number_of_nodes(), \n",
    "                        in_feats\n",
    "                       ).type(torch_type).to(device)\n",
    "\n",
    "# penalty parameterts\n",
    "con_param_1, con_param_2, con_param_3, con_param_4 = 12, 12, 2, 2"
   ]
  },
  {
   "cell_type": "markdown",
   "id": "5dddeb59",
   "metadata": {},
   "source": [
    "### Define loss function"
   ]
  },
  {
   "cell_type": "code",
   "execution_count": null,
   "id": "a5033ccb",
   "metadata": {
    "ExecuteTime": {
     "end_time": "2024-02-01T17:21:04.110307Z",
     "start_time": "2024-02-01T17:21:01.894Z"
    }
   },
   "outputs": [],
   "source": [
    "def multi_loss_func(probs, \n",
    "                    reg_param, \n",
    "                    vari_param=0):\n",
    "    sum_cost=0\n",
    "    for i in range(len(c_data)):\n",
    "        probs_ = probs[:, i].view(N1, N2)\n",
    "        obj_fn = -1*torch.sum(probs_*c_data[i])\n",
    "        con_1=torch.sum(F.relu(probs_.sum(dim=1)-1))\n",
    "        con_2=torch.sum(F.relu(probs_.sum(dim=0)-1))\n",
    "        con_3=F.relu(p*torch.sum(probs_)-torch.sum(probs_*m_data[i]))\n",
    "        con_4=F.relu(q*torch.sum(probs_)-torch.sum(probs_*(1-m_data[i])))\n",
    "        cost=obj_fn+con_param_1*con_1+con_param_2*con_2+con_param_3*con_3+con_param_4*con_4 \n",
    "        sum_cost+= cost\n",
    "    vari_term = probs.size(1)*probs.std(dim=1).sum()\n",
    "    reg_term = torch.sum((1-(2*probs-1)**2))\n",
    "            \n",
    "    return sum_cost+reg_param*reg_term+vari_param*vari_term, sum_cost/probs.size(1), reg_term, vari_term\n",
    "\n",
    "\n",
    "\n",
    "model, bit_strings, cost, reg_term, vari_term, runtime = gnn.fit_model_multishot(model,\n",
    "                                                                                   dgl_graph, \n",
    "                                                                                   embedding,\n",
    "                                                                                   multi_loss_func,\n",
    "                                                                                   num_epoch=int(1e+5),\n",
    "                                                                                   lr=1e-4, \n",
    "                                                                                   weight_decay=1e-2,\n",
    "                                                                                   tol=1e-5, \n",
    "                                                                                   patience=1000, \n",
    "                                                                                   vari_param=0,\n",
    "                                                                                   device=device,\n",
    "                                                                                   annealing=True,\n",
    "                                                                                   init_reg_param=-15,\n",
    "                                                                                   annealing_rate=5e-4,\n",
    "                                                                                   check_interval=1000)"
   ]
  },
  {
   "cell_type": "code",
   "execution_count": null,
   "id": "88a89fb3",
   "metadata": {},
   "outputs": [],
   "source": []
  }
 ],
 "metadata": {
  "kernelspec": {
   "display_name": "Python 3",
   "language": "python",
   "name": "python3"
  },
  "language_info": {
   "codemirror_mode": {
    "name": "ipython",
    "version": 3
   },
   "file_extension": ".py",
   "mimetype": "text/x-python",
   "name": "python",
   "nbconvert_exporter": "python",
   "pygments_lexer": "ipython3",
   "version": "3.8.10"
  },
  "toc": {
   "base_numbering": 1,
   "nav_menu": {},
   "number_sections": false,
   "sideBar": true,
   "skip_h1_title": false,
   "title_cell": "Table of Contents",
   "title_sidebar": "Contents",
   "toc_cell": false,
   "toc_position": {},
   "toc_section_display": true,
   "toc_window_display": false
  }
 },
 "nbformat": 4,
 "nbformat_minor": 5
}
